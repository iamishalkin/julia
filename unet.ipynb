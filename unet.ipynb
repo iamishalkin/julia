{
 "cells": [
  {
   "cell_type": "code",
   "execution_count": 1,
   "metadata": {},
   "outputs": [
    {
     "name": "stderr",
     "output_type": "stream",
     "text": [
      "Using TensorFlow backend.\n",
      "/usr/local/lib/python3.5/dist-packages/sklearn/cross_validation.py:41: DeprecationWarning: This module was deprecated in version 0.18 in favor of the model_selection module into which all the refactored classes and functions are moved. Also note that the interface of the new CV iterators are different from that of this module. This module will be removed in 0.20.\n",
      "  \"This module will be removed in 0.20.\", DeprecationWarning)\n"
     ]
    }
   ],
   "source": [
    "from skimage import transform, filters, exposure\n",
    "from keras.preprocessing.image import ImageDataGenerator\n",
    "from keras.models import Sequential\n",
    "from keras.layers.core import Dense, Dropout, Activation, Flatten\n",
    "from keras.layers.convolutional import Convolution2D, MaxPooling2D\n",
    "from keras.callbacks import ModelCheckpoint\n",
    "from sklearn.cross_validation import train_test_split\n",
    "from keras.layers.convolutional import Conv2D"
   ]
  },
  {
   "cell_type": "code",
   "execution_count": 2,
   "metadata": {},
   "outputs": [
    {
     "data": {
      "text/plain": [
       "(6220, 20, 20, 1)"
      ]
     },
     "execution_count": 2,
     "metadata": {},
     "output_type": "execute_result"
    }
   ],
   "source": [
    "import os\n",
    "import glob\n",
    "import pandas as pd\n",
    "import math\n",
    "from PIL import Image\n",
    "import numpy as np\n",
    "from scipy.misc import imread, imsave, imresize\n",
    "from natsort import natsorted\n",
    "from scipy.misc import imread\n",
    "import random\n",
    "random.seed( 42 ) \n",
    "\n",
    "nb_classes=62\n",
    "# Path of data files\n",
    "path = \"/home/ivan/python/julia/data\"\n",
    " \n",
    "# Input image dimensions\n",
    "img_rows, img_cols = 20, 20\n",
    " \n",
    " \n",
    "\n",
    "### Images preprocessing ###\n",
    "\n",
    "for setType in [\"test\",\"train\"]:\n",
    "    # We have to make sure files are sorted according to labels, even if they don't have trailing zeros\n",
    "    files = natsorted(glob.glob(path + \"/\"+setType+\"/*\"))\n",
    "    \"\"\"\n",
    "    if setType == 'test':\n",
    "        X_test = np.array([np.array(Image.open(fname)) for fname in files])\n",
    "    else:\n",
    "        X_train = np.array([np.array(Image.open(fname)) for fname in files])\n",
    "    \"\"\"\n",
    "    if setType == 'test':\n",
    "        X_test = np.array([np.array(imread(fname, flatten=True)) for fname in files])\n",
    "    else:\n",
    "        X_train = np.array([np.array(imread(fname, flatten=True)) for fname in files])\n",
    "X_test=X_test[:,:,:,np.newaxis]\n",
    "X_train=X_train[:,:,:,np.newaxis]\n",
    "X_train /= 255\n",
    "X_test /= 255\n",
    "X_test.shape\n",
    "    "
   ]
  },
  {
   "cell_type": "code",
   "execution_count": 3,
   "metadata": {
    "collapsed": true
   },
   "outputs": [],
   "source": [
    "def label2int(ch):\n",
    "    asciiVal = ord(ch)\n",
    "    if(asciiVal<=57): #0-9\n",
    "        asciiVal-=48\n",
    "    elif(asciiVal<=90): #A-Z\n",
    "        asciiVal-=55\n",
    "    else: #a-z\n",
    "        asciiVal-=61\n",
    "    return asciiVal\n",
    "    \n",
    "def int2label(i):\n",
    "    if(i<=9): #0-9\n",
    "        i+=48\n",
    "    elif(i<=35): #A-Z\n",
    "        i+=55\n",
    "    else: #a-z\n",
    "        i+=61\n",
    "    return chr(i)\n",
    "# Load labels\n",
    "y_train = pd.read_csv(\"/home/ivan/python/julia/trainLabels.csv\").values[:,1] #Keep only label\n",
    " \n",
    "# Convert labels to one-hot vectors\n",
    "Y_train = np.zeros((y_train.shape[0], len(np.unique(y_train))))\n",
    " \n",
    "for i in range(y_train.shape[0]):\n",
    "    Y_train[i][label2int(y_train[i])] = 1 # One-hot\n",
    "Y_train_all = Y_train.copy()\n",
    "X_train_all = X_train.copy()"
   ]
  },
  {
   "cell_type": "code",
   "execution_count": 4,
   "metadata": {
    "collapsed": true
   },
   "outputs": [],
   "source": [
    "X_train, X_val, Y_train, Y_val = \\\n",
    "        train_test_split(X_train_all, Y_train_all, test_size=0.2, stratify=np.argmax(Y_train_all, axis=1))"
   ]
  },
  {
   "cell_type": "code",
   "execution_count": 7,
   "metadata": {},
   "outputs": [
    {
     "name": "stderr",
     "output_type": "stream",
     "text": [
      "/usr/local/lib/python3.5/dist-packages/ipykernel_launcher.py:56: UserWarning: Update your `Model` call to the Keras 2 API: `Model(inputs=Tensor(\"in..., outputs=Tensor(\"de...)`\n"
     ]
    }
   ],
   "source": [
    "from keras.models import Model\n",
    "from keras.layers import Input, merge, Convolution2D, MaxPooling2D, UpSampling2D, Reshape, core, Dropout, concatenate, Conv2DTranspose\n",
    "inputs = Input((img_rows, img_cols, 1))\n",
    "conv1 = Conv2D(32, (3, 3), activation='relu', padding='same')(inputs)\n",
    "conv1 = Conv2D(32, (3, 3), activation='relu', padding='same')(conv1)\n",
    "pool1 = MaxPooling2D(pool_size=(2, 2))(conv1)\n",
    "\n",
    "conv2 = Conv2D(64, (3, 3), activation='relu', padding='same')(pool1)\n",
    "conv2 = Conv2D(64, (3, 3), activation='relu', padding='same')(conv2)\n",
    "pool2 = MaxPooling2D(pool_size=(2, 2))(conv2)\n",
    "\n",
    "conv3 = Conv2D(128, (3, 3), activation='relu', padding='same')(pool2)\n",
    "conv3 = Conv2D(128, (3, 3), activation='relu', padding='same')(conv3)\n",
    "pool3 = MaxPooling2D(pool_size=(2, 2))(conv3)\n",
    "\n",
    "up6 = concatenate([Conv2DTranspose(256, (2, 2), strides=(2, 2), padding='same')(conv3), conv2], axis=3)\n",
    "conv6 = Conv2D(64, (3, 3), activation='relu', padding='same')(up6)\n",
    "conv6 = Conv2D(64, (3, 3), activation='relu', padding='same')(conv6)\n",
    "\n",
    "up7 = concatenate([Conv2DTranspose(128, (2, 2), strides=(2, 2), padding='same')(conv6), conv1], axis=3)\n",
    "conv7 = Conv2D(32, (3, 3), activation='relu', padding='same')(up7)\n",
    "conv7 = Conv2D(32, (3, 3), activation='relu', padding='same')(conv7)\n",
    "\n",
    "\"\"\"\n",
    "conv4 = Conv2D(256, (3, 3), activation='relu', padding='same')(pool3)\n",
    "conv4 = Conv2D(256, (3, 3), activation='relu', padding='same')(conv4)\n",
    "pool4 = MaxPooling2D(pool_size=(2, 2))(conv4)\n",
    "\n",
    "conv5 = Conv2D(512, (3, 3), activation='relu', padding='same')(pool4)\n",
    "conv5 = Conv2D(512, (3, 3), activation='relu', padding='same')(conv5)\n",
    "\n",
    "up6 = concatenate([Conv2DTranspose(256, (2, 2), strides=(2, 2), padding='same')(conv5), conv4], axis=3)\n",
    "conv6 = Conv2D(256, (3, 3), activation='relu', padding='same')(up6)\n",
    "conv6 = Conv2D(256, (3, 3), activation='relu', padding='same')(conv6)\n",
    "\n",
    "up7 = concatenate([Conv2DTranspose(128, (2, 2), strides=(2, 2), padding='same')(conv6), conv3], axis=3)\n",
    "conv7 = Conv2D(128, (3, 3), activation='relu', padding='same')(up7)\n",
    "conv7 = Conv2D(128, (3, 3), activation='relu', padding='same')(conv7)\n",
    "\n",
    "up8 = concatenate([Conv2DTranspose(64, (2, 2), strides=(2, 2), padding='same')(conv7), conv2], axis=3)\n",
    "conv8 = Conv2D(64, (3, 3), activation='relu', padding='same')(up8)\n",
    "conv8 = Conv2D(64, (3, 3), activation='relu', padding='same')(conv8)\n",
    "\n",
    "up9 = concatenate([Conv2DTranspose(32, (2, 2), strides=(2, 2), padding='same')(conv8), conv1], axis=3)\n",
    "conv9 = Conv2D(32, (3, 3), activation='relu', padding='same')(up9)\n",
    "conv9 = Conv2D(32, (3, 3), activation='relu', padding='same')(conv9)\n",
    "\"\"\"\n",
    "\n",
    "flat = Flatten()(conv7)\n",
    "dense1 = Dense(2048, activation=\"relu\")(flat)\n",
    "drp1 = Dropout(0.5)(dense1)\n",
    "dense2 = Dense(2048, activation=\"relu\")(drp1)\n",
    "drp2 = Dropout(0.5)(dense2)\n",
    "dense3 = Dense(nb_classes, activation=\"softmax\")(drp1)\n",
    "\n",
    "model = Model(input=inputs, output=dense3)"
   ]
  },
  {
   "cell_type": "code",
   "execution_count": 8,
   "metadata": {
    "collapsed": true
   },
   "outputs": [],
   "source": [
    "### LEARNING ###\n",
    "from keras.optimizers import Adam, Adadelta\n",
    "# First, use AdaDelta for some epochs because AdaMax gets stuck\n",
    "model.compile(loss='categorical_crossentropy', \n",
    "              optimizer=Adadelta(),  \n",
    "              metrics=[\"accuracy\"])"
   ]
  },
  {
   "cell_type": "code",
   "execution_count": 9,
   "metadata": {},
   "outputs": [
    {
     "name": "stdout",
     "output_type": "stream",
     "text": [
      "Train on 5026 samples, validate on 1257 samples\n",
      "Epoch 1/20\n",
      "5026/5026 [==============================] - 284s - loss: 3.8626 - acc: 0.0609 - val_loss: 3.7924 - val_acc: 0.0573\n",
      "Epoch 2/20\n",
      "5026/5026 [==============================] - 281s - loss: 3.8083 - acc: 0.0625 - val_loss: 3.7728 - val_acc: 0.0732\n",
      "Epoch 3/20\n",
      "5026/5026 [==============================] - 289s - loss: 3.7868 - acc: 0.0760 - val_loss: 3.7500 - val_acc: 0.0859\n",
      "Epoch 4/20\n",
      "5026/5026 [==============================] - 285s - loss: 3.7082 - acc: 0.1110 - val_loss: 3.5653 - val_acc: 0.1583\n",
      "Epoch 5/20\n",
      "5026/5026 [==============================] - 278s - loss: 3.3638 - acc: 0.2099 - val_loss: 3.2375 - val_acc: 0.1854\n",
      "Epoch 6/20\n",
      "5026/5026 [==============================] - 270s - loss: 2.8135 - acc: 0.3227 - val_loss: 2.9137 - val_acc: 0.2928\n",
      "Epoch 7/20\n",
      "5026/5026 [==============================] - 271s - loss: 2.1884 - acc: 0.4443 - val_loss: 2.2914 - val_acc: 0.4105\n",
      "Epoch 8/20\n",
      "5026/5026 [==============================] - 266s - loss: 1.7054 - acc: 0.5450 - val_loss: 2.0423 - val_acc: 0.4972\n",
      "Epoch 9/20\n",
      "5026/5026 [==============================] - 264s - loss: 1.3335 - acc: 0.6337 - val_loss: 1.9875 - val_acc: 0.5091\n",
      "Epoch 10/20\n",
      "5026/5026 [==============================] - 265s - loss: 1.0368 - acc: 0.7093 - val_loss: 1.7290 - val_acc: 0.5784\n",
      "Epoch 11/20\n",
      "5026/5026 [==============================] - 264s - loss: 0.7750 - acc: 0.7754 - val_loss: 1.6666 - val_acc: 0.6078\n",
      "Epoch 12/20\n",
      "5026/5026 [==============================] - 264s - loss: 0.5765 - acc: 0.8325 - val_loss: 1.6739 - val_acc: 0.6165\n",
      "Epoch 13/20\n",
      "5026/5026 [==============================] - 269s - loss: 0.4179 - acc: 0.8776 - val_loss: 1.8042 - val_acc: 0.6142\n",
      "Epoch 14/20\n",
      "5026/5026 [==============================] - 264s - loss: 0.3120 - acc: 0.9138 - val_loss: 1.7435 - val_acc: 0.6468\n",
      "Epoch 15/20\n",
      "5026/5026 [==============================] - 262s - loss: 0.2246 - acc: 0.9341 - val_loss: 1.9520 - val_acc: 0.6492\n",
      "Epoch 16/20\n",
      "5026/5026 [==============================] - 264s - loss: 0.1698 - acc: 0.9522 - val_loss: 1.7871 - val_acc: 0.6492\n",
      "Epoch 17/20\n",
      "5026/5026 [==============================] - 265s - loss: 0.1250 - acc: 0.9610 - val_loss: 2.1133 - val_acc: 0.6691\n",
      "Epoch 18/20\n",
      "5026/5026 [==============================] - 263s - loss: 0.0932 - acc: 0.9713 - val_loss: 1.9711 - val_acc: 0.6706\n",
      "Epoch 19/20\n",
      "5026/5026 [==============================] - 264s - loss: 0.0907 - acc: 0.9731 - val_loss: 2.1389 - val_acc: 0.6746\n",
      "Epoch 20/20\n",
      "5026/5026 [==============================] - 262s - loss: 0.0732 - acc: 0.9807 - val_loss: 2.0160 - val_acc: 0.6460\n"
     ]
    },
    {
     "data": {
      "text/plain": [
       "<keras.callbacks.History at 0x7f9f461a5e48>"
      ]
     },
     "execution_count": 9,
     "metadata": {},
     "output_type": "execute_result"
    }
   ],
   "source": [
    "# 20 epochs is sufficient\n",
    "model.fit(X_train, Y_train, batch_size=128,\n",
    "                    #nb_epoch=20, \n",
    "                    epochs=20,\n",
    "                    validation_data=(X_val, Y_val),\n",
    "                    verbose=1)"
   ]
  },
  {
   "cell_type": "code",
   "execution_count": 10,
   "metadata": {
    "collapsed": true
   },
   "outputs": [],
   "source": [
    "# Parametrize the image augmentation class\n",
    "datagen = ImageDataGenerator(\n",
    "    rotation_range = 20,\n",
    "    width_shift_range = 0.15,\n",
    "    height_shift_range = 0.15,\n",
    "    shear_range = 0.4,\n",
    "    zoom_range = 0.3,                    \n",
    "    channel_shift_range = 0.1)"
   ]
  },
  {
   "cell_type": "code",
   "execution_count": null,
   "metadata": {},
   "outputs": [
    {
     "name": "stderr",
     "output_type": "stream",
     "text": [
      "/usr/local/lib/python3.5/dist-packages/ipykernel_launcher.py:15: UserWarning: Update your `fit_generator` call to the Keras 2 API: `fit_generator(<keras.pre..., verbose=1, steps_per_epoch=39, callbacks=[<keras.ca..., validation_data=(array([[[..., epochs=300)`\n",
      "  from ipykernel import kernelapp as app\n"
     ]
    },
    {
     "name": "stdout",
     "output_type": "stream",
     "text": [
      "Epoch 1/300\n",
      "38/39 [============================>.] - ETA: 3s - loss: 3.5498 - acc: 0.1571Epoch 00000: val_acc improved from -inf to 0.45426, saving model to best.kerasModelWeights\n",
      "39/39 [==============================] - 139s - loss: 3.5403 - acc: 0.1589 - val_loss: 2.3656 - val_acc: 0.4543\n",
      "Epoch 2/300\n",
      "38/39 [============================>.] - ETA: 3s - loss: 2.9207 - acc: 0.2770Epoch 00001: val_acc improved from 0.45426 to 0.54415, saving model to best.kerasModelWeights\n",
      "39/39 [==============================] - 136s - loss: 2.9172 - acc: 0.2775 - val_loss: 1.8235 - val_acc: 0.5442\n",
      "Epoch 3/300\n",
      "38/39 [============================>.] - ETA: 3s - loss: 2.7134 - acc: 0.3127Epoch 00002: val_acc improved from 0.54415 to 0.59825, saving model to best.kerasModelWeights\n",
      "39/39 [==============================] - 136s - loss: 2.7082 - acc: 0.3139 - val_loss: 1.5916 - val_acc: 0.5982\n",
      "Epoch 4/300\n",
      "38/39 [============================>.] - ETA: 3s - loss: 2.5237 - acc: 0.3538Epoch 00003: val_acc improved from 0.59825 to 0.60700, saving model to best.kerasModelWeights\n",
      "39/39 [==============================] - 135s - loss: 2.5277 - acc: 0.3534 - val_loss: 1.4928 - val_acc: 0.6070\n",
      "Epoch 5/300\n",
      "38/39 [============================>.] - ETA: 3s - loss: 2.3701 - acc: 0.3994Epoch 00004: val_acc improved from 0.60700 to 0.64757, saving model to best.kerasModelWeights\n",
      "39/39 [==============================] - 135s - loss: 2.3772 - acc: 0.3970 - val_loss: 1.3920 - val_acc: 0.6476\n",
      "Epoch 6/300\n",
      "38/39 [============================>.] - ETA: 3s - loss: 2.2747 - acc: 0.4102Epoch 00005: val_acc improved from 0.64757 to 0.66587, saving model to best.kerasModelWeights\n",
      "39/39 [==============================] - 135s - loss: 2.2772 - acc: 0.4089 - val_loss: 1.3065 - val_acc: 0.6659\n",
      "Epoch 7/300\n",
      "38/39 [============================>.] - ETA: 3s - loss: 2.2330 - acc: 0.4163Epoch 00006: val_acc improved from 0.66587 to 0.66667, saving model to best.kerasModelWeights\n",
      "39/39 [==============================] - 135s - loss: 2.2300 - acc: 0.4173 - val_loss: 1.2616 - val_acc: 0.6667\n",
      "Epoch 8/300\n",
      "38/39 [============================>.] - ETA: 3s - loss: 2.1698 - acc: 0.4296Epoch 00007: val_acc improved from 0.66667 to 0.68258, saving model to best.kerasModelWeights\n",
      "39/39 [==============================] - 135s - loss: 2.1769 - acc: 0.4273 - val_loss: 1.2187 - val_acc: 0.6826\n",
      "Epoch 9/300\n",
      "38/39 [============================>.] - ETA: 3s - loss: 2.0999 - acc: 0.4495Epoch 00008: val_acc improved from 0.68258 to 0.68576, saving model to best.kerasModelWeights\n",
      "39/39 [==============================] - 136s - loss: 2.0957 - acc: 0.4508 - val_loss: 1.1878 - val_acc: 0.6858\n",
      "Epoch 10/300\n",
      "38/39 [============================>.] - ETA: 3s - loss: 2.0189 - acc: 0.4632Epoch 00009: val_acc improved from 0.68576 to 0.69212, saving model to best.kerasModelWeights\n",
      "39/39 [==============================] - 135s - loss: 2.0187 - acc: 0.4629 - val_loss: 1.1839 - val_acc: 0.6921\n",
      "Epoch 11/300\n",
      "38/39 [============================>.] - ETA: 3s - loss: 1.9589 - acc: 0.4786Epoch 00010: val_acc improved from 0.69212 to 0.71201, saving model to best.kerasModelWeights\n",
      "39/39 [==============================] - 135s - loss: 1.9601 - acc: 0.4794 - val_loss: 1.1022 - val_acc: 0.7120\n",
      "Epoch 12/300\n",
      "38/39 [============================>.] - ETA: 3s - loss: 1.9108 - acc: 0.4932Epoch 00011: val_acc did not improve\n",
      "39/39 [==============================] - 134s - loss: 1.9046 - acc: 0.4941 - val_loss: 1.1133 - val_acc: 0.6993\n",
      "Epoch 13/300\n",
      "38/39 [============================>.] - ETA: 3s - loss: 1.8819 - acc: 0.4999Epoch 00012: val_acc did not improve\n",
      "39/39 [==============================] - 134s - loss: 1.8839 - acc: 0.4998 - val_loss: 1.0715 - val_acc: 0.7096\n",
      "Epoch 14/300\n",
      "38/39 [============================>.] - ETA: 3s - loss: 1.8230 - acc: 0.5013Epoch 00013: val_acc improved from 0.71201 to 0.72235, saving model to best.kerasModelWeights\n",
      "39/39 [==============================] - 136s - loss: 1.8312 - acc: 0.5019 - val_loss: 1.0403 - val_acc: 0.7224\n",
      "Epoch 15/300\n",
      "38/39 [============================>.] - ETA: 3s - loss: 1.7660 - acc: 0.5230Epoch 00014: val_acc improved from 0.72235 to 0.73031, saving model to best.kerasModelWeights\n",
      "39/39 [==============================] - 135s - loss: 1.7671 - acc: 0.5228 - val_loss: 1.0116 - val_acc: 0.7303\n",
      "Epoch 16/300\n",
      "38/39 [============================>.] - ETA: 3s - loss: 1.7290 - acc: 0.5281Epoch 00015: val_acc improved from 0.73031 to 0.73429, saving model to best.kerasModelWeights\n",
      "39/39 [==============================] - 135s - loss: 1.7284 - acc: 0.5282 - val_loss: 1.0173 - val_acc: 0.7343\n",
      "Epoch 17/300\n",
      "38/39 [============================>.] - ETA: 3s - loss: 1.7259 - acc: 0.5296Epoch 00016: val_acc improved from 0.73429 to 0.74383, saving model to best.kerasModelWeights\n",
      "39/39 [==============================] - 136s - loss: 1.7295 - acc: 0.5296 - val_loss: 1.0076 - val_acc: 0.7438\n",
      "Epoch 18/300\n",
      "38/39 [============================>.] - ETA: 3s - loss: 1.6970 - acc: 0.5340Epoch 00017: val_acc did not improve\n",
      "39/39 [==============================] - 135s - loss: 1.6955 - acc: 0.5348 - val_loss: 0.9905 - val_acc: 0.7430\n",
      "Epoch 19/300\n",
      "38/39 [============================>.] - ETA: 3s - loss: 1.6377 - acc: 0.5490Epoch 00018: val_acc did not improve\n",
      "39/39 [==============================] - 134s - loss: 1.6386 - acc: 0.5498 - val_loss: 1.0025 - val_acc: 0.7367\n",
      "Epoch 20/300\n",
      "38/39 [============================>.] - ETA: 3s - loss: 1.6034 - acc: 0.5659Epoch 00019: val_acc did not improve\n",
      "39/39 [==============================] - 134s - loss: 1.6011 - acc: 0.5661 - val_loss: 0.9498 - val_acc: 0.7399\n",
      "Epoch 21/300\n",
      "38/39 [============================>.] - ETA: 3s - loss: 1.5877 - acc: 0.5657Epoch 00020: val_acc improved from 0.74383 to 0.76372, saving model to best.kerasModelWeights\n",
      "39/39 [==============================] - 135s - loss: 1.5858 - acc: 0.5663 - val_loss: 0.9196 - val_acc: 0.7637\n",
      "Epoch 22/300\n",
      "38/39 [============================>.] - ETA: 3s - loss: 1.5347 - acc: 0.5676Epoch 00021: val_acc did not improve\n",
      "39/39 [==============================] - 134s - loss: 1.5319 - acc: 0.5687 - val_loss: 0.8997 - val_acc: 0.7589\n",
      "Epoch 23/300\n",
      "38/39 [============================>.] - ETA: 3s - loss: 1.5157 - acc: 0.5775Epoch 00022: val_acc did not improve\n",
      "39/39 [==============================] - 134s - loss: 1.5158 - acc: 0.5773 - val_loss: 0.9433 - val_acc: 0.7407\n",
      "Epoch 24/300\n",
      "38/39 [============================>.] - ETA: 3s - loss: 1.5132 - acc: 0.5834Epoch 00023: val_acc did not improve\n",
      "39/39 [==============================] - 134s - loss: 1.5103 - acc: 0.5855 - val_loss: 0.9205 - val_acc: 0.7494\n",
      "Epoch 25/300\n",
      "38/39 [============================>.] - ETA: 3s - loss: 1.4854 - acc: 0.5881Epoch 00024: val_acc did not improve\n",
      "39/39 [==============================] - 134s - loss: 1.4930 - acc: 0.5859 - val_loss: 0.9059 - val_acc: 0.7391\n",
      "Epoch 26/300\n",
      "38/39 [============================>.] - ETA: 3s - loss: 1.4199 - acc: 0.6055Epoch 00025: val_acc did not improve\n",
      "39/39 [==============================] - 134s - loss: 1.4254 - acc: 0.6040 - val_loss: 0.9390 - val_acc: 0.7510\n",
      "Epoch 27/300\n",
      "38/39 [============================>.] - ETA: 3s - loss: 1.4226 - acc: 0.5984Epoch 00026: val_acc did not improve\n",
      "39/39 [==============================] - 134s - loss: 1.4259 - acc: 0.5981 - val_loss: 0.8858 - val_acc: 0.7534\n",
      "Epoch 28/300\n",
      "38/39 [============================>.] - ETA: 3s - loss: 1.4250 - acc: 0.6091Epoch 00027: val_acc did not improve\n",
      "39/39 [==============================] - 134s - loss: 1.4167 - acc: 0.6115 - val_loss: 0.9263 - val_acc: 0.7605\n",
      "Epoch 29/300\n",
      "38/39 [============================>.] - ETA: 3s - loss: 1.3582 - acc: 0.6198Epoch 00028: val_acc improved from 0.76372 to 0.76452, saving model to best.kerasModelWeights\n",
      "39/39 [==============================] - 134s - loss: 1.3578 - acc: 0.6213 - val_loss: 0.8827 - val_acc: 0.7645\n",
      "Epoch 30/300\n",
      "38/39 [============================>.] - ETA: 3s - loss: 1.3307 - acc: 0.6278Epoch 00029: val_acc did not improve\n",
      "39/39 [==============================] - 135s - loss: 1.3337 - acc: 0.6277 - val_loss: 0.8967 - val_acc: 0.7637\n",
      "Epoch 31/300\n"
     ]
    },
    {
     "name": "stdout",
     "output_type": "stream",
     "text": [
      "17/39 [============>.................] - ETA: 71s - loss: 1.3265 - acc: 0.6268"
     ]
    }
   ],
   "source": [
    "model.compile(loss='categorical_crossentropy', \n",
    "              optimizer='adamax',  \n",
    "              metrics=[\"accuracy\"])\n",
    "\n",
    "# We want to keep the best model. This callback will store \n",
    "# in a file the weights of the model with the highest validation accuracy  \n",
    "saveBestModel = ModelCheckpoint(\"best.kerasModelWeights\", monitor='val_acc', verbose=1, save_best_only=True, save_weights_only=True)\n",
    "\n",
    "# Make the model learn using the image generator\n",
    "model.fit_generator(datagen.flow(X_train, Y_train, batch_size=128),\n",
    "                samples_per_epoch=len(X_train),\n",
    "                epochs=300, \n",
    "                validation_data=(X_val, Y_val),\n",
    "                callbacks=[saveBestModel],\n",
    "                verbose=1)"
   ]
  },
  {
   "cell_type": "code",
   "execution_count": 12,
   "metadata": {},
   "outputs": [
    {
     "name": "stdout",
     "output_type": "stream",
     "text": [
      "6208/6220 [============================>.] - ETA: 0s"
     ]
    }
   ],
   "source": [
    "# Predict the class (give the index in the one-hot vector of the most probable class)\n",
    "Y_test_pred = model.predict_classes(X_test)\n",
    "\n",
    "# Translate integers to character labels\n",
    "vInt2label = np.vectorize(int2label)\n",
    "Y_test_pred = vInt2label(Y_test_pred)\n",
    "\n",
    "# Save the predicitions in Kaggle format\n",
    "np.savetxt(path+\"/CNN_pred_unet.csv\", np.c_[range(6284,len(Y_test_pred)+6284),Y_test_pred], delimiter=',', header = 'ID,Class', comments = '', fmt='%s')\n",
    "\n"
   ]
  },
  {
   "cell_type": "code",
   "execution_count": null,
   "metadata": {
    "collapsed": true
   },
   "outputs": [],
   "source": []
  },
  {
   "cell_type": "code",
   "execution_count": null,
   "metadata": {
    "collapsed": true
   },
   "outputs": [],
   "source": []
  }
 ],
 "metadata": {
  "kernelspec": {
   "display_name": "Python 3",
   "language": "python",
   "name": "python3"
  },
  "language_info": {
   "codemirror_mode": {
    "name": "ipython",
    "version": 3
   },
   "file_extension": ".py",
   "mimetype": "text/x-python",
   "name": "python",
   "nbconvert_exporter": "python",
   "pygments_lexer": "ipython3",
   "version": "3.5.3"
  }
 },
 "nbformat": 4,
 "nbformat_minor": 2
}
